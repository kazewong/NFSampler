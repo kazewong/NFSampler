{
 "cells": [
  {
   "cell_type": "markdown",
   "metadata": {},
   "source": [
    "# Obtaining maximum likelihood estimate using evolutionary algorithm\n",
    "\n",
    "Sometime it is useful to start somewhere close to the high likelihood region. In this tutorial, we use a built-in evolutionary algorithm to find the maximum likelihood estimate of the model parameters.\n"
   ]
  },
  {
   "cell_type": "code",
   "execution_count": null,
   "metadata": {},
   "outputs": [],
   "source": [
    "import jax\n",
    "import jax.numpy as jnp  # JAX NumPy\n",
    "from jax.scipy.special import logsumexp\n",
    "\n",
    "from flowMC.utils.EvolutionaryOptimizer import EvolutionaryOptimizer\n",
    "\n",
    "\n",
    "def target_dualmoon(x, data):\n",
    "    \"\"\"\n",
    "    Term 2 and 3 separate the distribution and smear it along the first and second dimension\n",
    "    \"\"\"\n",
    "    print(\"compile count\")\n",
    "    term1 = 0.5 * ((jnp.linalg.norm(x - data[\"data\"]) - 2) / 0.1) ** 2\n",
    "    term2 = -0.5 * ((x[:1] + jnp.array([-3.0, 3.0])) / 0.8) ** 2\n",
    "    term3 = -0.5 * ((x[1:2] + jnp.array([-3.0, 3.0])) / 0.6) ** 2\n",
    "    return -(term1 - logsumexp(term2) - logsumexp(term3))\n",
    "\n",
    "\n",
    "n_dim = 5\n",
    "n_loops = 100\n",
    "popsize = 100\n",
    "bounds = jnp.array([[-10, 10]] * n_dim)\n",
    "\n",
    "optimizer = EvolutionaryOptimizer(n_dim, popsize=popsize, verbose=True)\n",
    "y = jax.jit(jax.vmap(lambda x: -target_dualmoon(x, {\"data\": jnp.zeros(n_dim)})))\n",
    "state = optimizer.optimize(y, bounds, n_loops=n_loops)\n",
    "best_fit = optimizer.get_result()[0]"
   ]
  },
  {
   "cell_type": "code",
   "execution_count": null,
   "metadata": {},
   "outputs": [],
   "source": [
    "print(best_fit)"
   ]
  },
  {
   "cell_type": "markdown",
   "metadata": {},
   "source": [
    "# Let's compare the maximum likelihood to the posterior"
   ]
  },
  {
   "cell_type": "code",
   "execution_count": null,
   "metadata": {},
   "outputs": [],
   "source": [
    "from flowMC.nfmodel.rqSpline import MaskedCouplingRQSpline\n",
    "from flowMC.sampler.MALA import MALA\n",
    "from flowMC.sampler.Sampler import Sampler\n",
    "\n",
    "\n",
    "n_chains = 20\n",
    "n_loop_training = 5\n",
    "n_loop_production = 5\n",
    "n_local_steps = 100\n",
    "n_global_steps = 100\n",
    "learning_rate = 0.001\n",
    "momentum = 0.9\n",
    "num_epochs = 30\n",
    "batch_size = 10000\n",
    "\n",
    "data = {\"data\": jnp.zeros(n_dim)}\n",
    "\n",
    "rng_key, subkey = jax.random.split(jax.random.PRNGKey(42))\n",
    "model = MaskedCouplingRQSpline(n_dim, 4, [32, 32], 8, subkey)\n",
    "\n",
    "rng_key, subkey = jax.random.split(rng_key)\n",
    "initial_position = jax.random.normal(subkey, shape=(n_chains, n_dim)) * 1\n",
    "\n",
    "MALA_Sampler = MALA(target_dualmoon, True, {\"step_size\": 0.1})\n",
    "\n",
    "print(\"Initializing sampler class\")\n",
    "\n",
    "nf_sampler = Sampler(\n",
    "    n_dim,\n",
    "    rng_key,\n",
    "    {\"data\": jnp.zeros(5)},\n",
    "    MALA_Sampler,\n",
    "    model,\n",
    "    n_loop_training=n_loop_training,\n",
    "    n_loop_production=n_loop_production,\n",
    "    n_local_steps=n_local_steps,\n",
    "    n_global_steps=n_global_steps,\n",
    "    n_chains=n_chains,\n",
    "    n_epochs=num_epochs,\n",
    "    learning_rate=learning_rate,\n",
    "    momentum=momentum,\n",
    "    batch_size=batch_size,\n",
    "    use_global=True,\n",
    ")\n",
    "\n",
    "nf_sampler.sample(initial_position, data)"
   ]
  },
  {
   "cell_type": "code",
   "execution_count": null,
   "metadata": {},
   "outputs": [],
   "source": [
    "import corner\n",
    "import numpy as np\n",
    "\n",
    "\n",
    "chains = np.array(nf_sampler.get_sampler_state(training=False)[\"chains\"])\n",
    "\n",
    "labels = [\"$x_1$\", \"$x_2$\", \"$x_3$\", \"$x_4$\", \"$x_5$\"]\n",
    "# Plot all chains\n",
    "figure = corner.corner(\n",
    "    chains.reshape(-1, n_dim), labels=labels, truths=best_fit, truth_color=\"red\"\n",
    ")\n",
    "figure.set_size_inches(7, 7)\n",
    "figure.suptitle(\"Visualize samples\")"
   ]
  },
  {
   "cell_type": "code",
   "execution_count": null,
   "metadata": {},
   "outputs": [],
   "source": []
  }
 ],
 "metadata": {
  "kernelspec": {
   "display_name": "flowMC",
   "language": "python",
   "name": "python3"
  },
  "language_info": {
   "codemirror_mode": {
    "name": "ipython",
    "version": 3
   },
   "file_extension": ".py",
   "mimetype": "text/x-python",
   "name": "python",
   "nbconvert_exporter": "python",
   "pygments_lexer": "ipython3",
   "version": "3.10.4"
  },
  "orig_nbformat": 4
 },
 "nbformat": 4,
 "nbformat_minor": 2
}
